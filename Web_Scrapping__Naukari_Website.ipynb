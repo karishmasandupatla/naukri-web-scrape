{
  "nbformat": 4,
  "nbformat_minor": 0,
  "metadata": {
    "colab": {
      "provenance": [],
      "authorship_tag": "ABX9TyPf5DvgV9naX7fnpnQQtaTQ",
      "include_colab_link": true
    },
    "kernelspec": {
      "name": "python3",
      "display_name": "Python 3"
    },
    "language_info": {
      "name": "python"
    }
  },
  "cells": [
    {
      "cell_type": "markdown",
      "metadata": {
        "id": "view-in-github",
        "colab_type": "text"
      },
      "source": [
        "<a href=\"https://colab.research.google.com/github/karishmasandupatla/naukri-web-scrape/blob/main/Web_Scrapping__Naukari_Website.ipynb\" target=\"_parent\"><img src=\"https://colab.research.google.com/assets/colab-badge.svg\" alt=\"Open In Colab\"/></a>"
      ]
    },
    {
      "cell_type": "markdown",
      "source": [
        "#**Web Scrapping of Naukari data**\n"
      ],
      "metadata": {
        "id": "5VtxIgNTNYwr"
      }
    },
    {
      "cell_type": "markdown",
      "source": [
        "##**Objective**\n",
        "Scrape useful data from a target website using Python and BeautifulSoup/requests."
      ],
      "metadata": {
        "id": "N3eOKyCwQkSp"
      }
    },
    {
      "cell_type": "markdown",
      "source": [
        "##**Target Website-As Sample taken Naukari Website**"
      ],
      "metadata": {
        "id": "n3uFs9CjQ8yT"
      }
    },
    {
      "cell_type": "code",
      "execution_count": null,
      "metadata": {
        "id": "KqY25f5BMp22"
      },
      "outputs": [],
      "source": [
        "#Naukri_data"
      ]
    },
    {
      "cell_type": "markdown",
      "source": [
        "### Step 1: Importing Required Libraries\n",
        "\n"
      ],
      "metadata": {
        "id": "Jm8VXHgEUQqg"
      }
    },
    {
      "cell_type": "code",
      "execution_count": null,
      "metadata": {
        "colab": {
          "base_uri": "https://localhost:8080/"
        },
        "outputId": "96899c3f-b54a-482d-a280-f3e1e6547cbe",
        "id": "5UMZVDdjMp23"
      },
      "outputs": [
        {
          "output_type": "stream",
          "name": "stdout",
          "text": [
            "338566\n"
          ]
        }
      ],
      "source": [
        "import requests\n",
        "from bs4 import BeautifulSoup\n",
        "\n",
        "#URL of the website to scrape\n",
        "url=\"https://raw.githubusercontent.com/SKarishma123/file/refs/heads/main/job.html\"\n",
        "\n",
        "#Send an HTTP GET request to the website\n",
        "response=requests.get(url)\n",
        "\n",
        "#Parse the HTML content using Beautiful Soup\n",
        "soup=BeautifulSoup(response.content,\"html.parser\")\n",
        "\n",
        "print(len(str(soup)))"
      ]
    },
    {
      "cell_type": "markdown",
      "source": [
        "### Step 2: Sending HTTP Request to the Website\n"
      ],
      "metadata": {
        "id": "Is5e5BjoVIJU"
      }
    },
    {
      "cell_type": "code",
      "execution_count": null,
      "metadata": {
        "colab": {
          "base_uri": "https://localhost:8080/"
        },
        "outputId": "4a77fe0c-75f1-4273-d383-f3cbc5322da6",
        "id": "O-CUxwJLMp23"
      },
      "outputs": [
        {
          "output_type": "stream",
          "name": "stdout",
          "text": [
            "20\n",
            "['Point Perfect Transcription Services', 'Globaldata', 'Leapstrat Interactive', 'Eagle Peak Intel Privet Limited', 'Nityo Infotech', 'Milestone Internet Marketing', 'S And V Coding', 'Hir Infotech', 'Uplers', 'Dendrite', 'Techquaint Services', 'Spire Technologies And Solutions', 'Dendrite', 'Tradetron', 'Smart Placement Services', 'GM WARE', 'Tradetron', 'Appzlogic', 'Innovatexiq Solutions', 'Hexaware Technologies']\n",
            "20\n",
            "['https://www.naukri.com/point-perfect-transcription-services-jobs-careers-611495', 'https://www.naukri.com/globaldata-jobs-careers-610735', 'https://www.naukri.com/leapstrat-interactive-jobs-careers-123531573', 'https://www.naukri.com/eagle-peak-intel-jobs-careers-6511536', 'https://www.naukri.com/nityo-infotech-jobs-careers-98724', 'https://www.naukri.com/milestone-internet-marketing-jobs-careers-87799', 'https://www.naukri.com/s-and-v-coding-jobs-careers-123658225', 'https://www.naukri.com/hir-infotech-jobs-careers-4789614', 'https://www.naukri.com/uplers-jobs-careers-897026', 'https://www.naukri.com/dendrite-jobs-careers-124349302', 'https://www.naukri.com/techquaint-services-jobs-careers-6339386', 'https://www.naukri.com/spire-technologies-and-solutions-jobs-careers-523599', 'https://www.naukri.com/dendrite-jobs-careers-124349302', 'https://www.naukri.com/tradetron-jobs-careers-123706835', 'https://www.naukri.com/smart-placement-services-jobs-careers-6583340', 'https://www.naukri.com/gmware-jobs-careers-2978652', 'https://www.naukri.com/tradetron-jobs-careers-123706835', 'https://www.naukri.com/appzlogic-jobs-careers-2243532', 'https://www.naukri.com/innovatexiq-solutions-jobs-careers-124595286', 'https://www.naukri.com/hexaware-technologies-jobs-careers-9815']\n"
          ]
        }
      ],
      "source": [
        "#Find and print all the links on the page\n",
        "#Company Name and Link\n",
        "loc=soup.find_all(\"a\",class_=\"comp-name\")\n",
        "company_name=[]\n",
        "company_link=[]\n",
        "for i in loc:\n",
        "  company_name.append(i.text)\n",
        "  company_link.append(i.get(\"href\"))\n",
        "print(len(company_name))\n",
        "print(company_name)\n",
        "print(len(company_link))\n",
        "print(company_link)"
      ]
    },
    {
      "cell_type": "code",
      "execution_count": null,
      "metadata": {
        "colab": {
          "base_uri": "https://localhost:8080/"
        },
        "outputId": "5daf5d12-23bc-473c-915d-50088b74f272",
        "id": "UGP8_EvSMp24"
      },
      "outputs": [
        {
          "output_type": "stream",
          "name": "stdout",
          "text": [
            "25\n",
            "['Python Developer - Web Scraping', 'Job opening For Python (SSE) - (Web Scraping) @ GlobalData(Hyd)', 'Web Scraping Expert (Scrapy & Python)', 'Sr. Python Developer', 'Python Software Developer', 'Python Software Developer', 'Python Software Developer', 'Python Software Developer', 'Software Developer ( AL ML, Python Data Science )', 'Web Scraping Specialist', 'Python Developer Intern', 'Python Web Scraping & Automation Engineer', 'Python Developer / Web Scraper', 'Senior Node.js Developer (Web Scraping/Web Automation)', 'Full Stack ML Engineer/Python & Flask Web Developer Intern', 'Junior Developer Python/Web Data Scraping', 'Walkin Interviews - Python Web Crawling Analyst', 'Full Stack Web Developer - Python(Flask) with React/NodeJS', 'Python Developer', 'Python Developer Trainee', 'Tech Lead - Web Scraping Engineer', 'Python Developer', 'Python Developer', 'Python Developer Trainee - 05', 'Python FSD React Developer']\n",
            "25\n",
            "['https://www.naukri.com/job-listings-python-developer-web-scraping-point-perfect-technology-solution-coimbatore-5-to-10-years-080125503343', 'https://www.naukri.com/job-listings-opening-for-python-sse-web-scraping-globaldata-hyd-globaldata-hyderabad-4-to-8-years-200225013681', 'https://www.naukri.com/job-listings-web-scraping-expert-scrapy-python-leapstrat-interactive-kolkata-5-to-7-years-270125000925', None, None, None, None, None, 'https://www.naukri.com/job-listings-software-developer-al-ml-python-data-science-eagle-peak-intel-privet-limited-new-delhi-0-to-5-years-150325007472', 'https://www.naukri.com/job-listings-web-scraping-specialist-nityo-infotech-kolkata-mumbai-new-delhi-hyderabad-pune-chennai-bengaluru-3-to-5-years-030425500924', 'https://www.naukri.com/job-listings-python-developer-intern-milestone-internet-marketing-private-limited-ahmedabad-0-to-1-years-310325002773', 'https://www.naukri.com/job-listings-python-web-scraping-automation-engineer-s-and-v-coding-new-delhi-2-to-6-years-220624005153', 'https://www.naukri.com/job-listings-python-developer-web-scraper-hir-infotech-pvt-ltd-ahmedabad-1-to-2-years-100823500132', 'https://www.naukri.com/job-listings-senior-node-js-developer-web-scraping-web-automation-uplers-noida-4-to-7-years-090425006303', 'https://www.naukri.com/job-listings-full-stack-ml-engineer-python-flask-web-developer-intern-dendrite-ai-pune-0-to-1-years-190325512297', 'https://www.naukri.com/job-listings-junior-developer-python-web-data-scraping-techquaint-services-indore-3-to-4-years-010524009132', 'https://www.naukri.com/job-listings-walkin-interviews-python-web-crawling-analyst-spire-technologies-and-solutions-bangalore-bengaluru-0-to-1-years-010425011344', 'https://www.naukri.com/job-listings-full-stack-web-developer-python-flask-with-react-nodejs-dendrite-ai-pune-0-to-4-years-190325512257', 'https://www.naukri.com/job-listings-python-developer-tradetron-pune-chennai-bengaluru-0-to-5-years-260325928030', 'https://www.naukri.com/job-listings-python-developer-trainee-smart-placement-services-pune-bengaluru-0-to-0-years-020425008463', 'https://www.naukri.com/job-listings-tech-lead-web-scraping-engineer-gm-ware-bengaluru-5-to-8-years-090425905580', 'https://www.naukri.com/job-listings-python-developer-tradetron-pune-chennai-bengaluru-0-to-5-years-210325909817', 'https://www.naukri.com/job-listings-python-developer-appzlogic-mobility-solutions-pvt-ltd-kolkata-mumbai-new-delhi-hyderabad-pune-chennai-bengaluru-0-to-3-years-121124502854', 'https://www.naukri.com/job-listings-python-developer-trainee-05-innovatexiq-solutions-kolkata-mumbai-new-delhi-hyderabad-pune-chennai-bengaluru-0-to-1-years-120225500480', 'https://www.naukri.com/job-listings-python-fsd-react-developer-hexaware-technologies-pune-chennai-bengaluru-5-to-10-years-020425007715']\n"
          ]
        }
      ],
      "source": [
        "#Role and Role Link\n",
        "loc=soup.find_all(\"a\",class_=\"title\")\n",
        "role=[]\n",
        "link=[]\n",
        "for i in loc:\n",
        "  role.append(i.text)\n",
        "  link.append(i.get(\"href\"))\n",
        "print(len(role))\n",
        "print(role)\n",
        "print(len(link))\n",
        "print(link)"
      ]
    },
    {
      "cell_type": "code",
      "source": [
        "#Delete uncessary data of role and role link"
      ],
      "metadata": {
        "id": "dm4pf_1tMp25"
      },
      "execution_count": null,
      "outputs": []
    },
    {
      "cell_type": "code",
      "execution_count": null,
      "metadata": {
        "colab": {
          "base_uri": "https://localhost:8080/"
        },
        "outputId": "18deb2be-0475-4d3a-8050-2831ad983092",
        "id": "AChSaLUjMp25"
      },
      "outputs": [
        {
          "output_type": "stream",
          "name": "stdout",
          "text": [
            "['Python Developer - Web Scraping', 'Job opening For Python (SSE) - (Web Scraping) @ GlobalData(Hyd)', 'Web Scraping Expert (Scrapy & Python)']\n"
          ]
        }
      ],
      "source": [
        "new_role=role[0:3]\n",
        "print(new_role)"
      ]
    },
    {
      "cell_type": "code",
      "execution_count": null,
      "metadata": {
        "colab": {
          "base_uri": "https://localhost:8080/"
        },
        "outputId": "a6775dd0-58b1-40cb-f273-5aeab7017a45",
        "id": "tVxh8rJtMp25"
      },
      "outputs": [
        {
          "output_type": "stream",
          "name": "stdout",
          "text": [
            "['Software Developer ( AL ML, Python Data Science )', 'Web Scraping Specialist', 'Python Developer Intern', 'Python Web Scraping & Automation Engineer', 'Python Developer / Web Scraper', 'Senior Node.js Developer (Web Scraping/Web Automation)', 'Full Stack ML Engineer/Python & Flask Web Developer Intern', 'Junior Developer Python/Web Data Scraping', 'Walkin Interviews - Python Web Crawling Analyst', 'Full Stack Web Developer - Python(Flask) with React/NodeJS', 'Python Developer', 'Python Developer Trainee', 'Tech Lead - Web Scraping Engineer', 'Python Developer', 'Python Developer', 'Python Developer Trainee - 05', 'Python FSD React Developer']\n"
          ]
        }
      ],
      "source": [
        "new_role2=role[8:]\n",
        "print(new_role2)"
      ]
    },
    {
      "cell_type": "code",
      "execution_count": null,
      "metadata": {
        "colab": {
          "base_uri": "https://localhost:8080/"
        },
        "outputId": "bc100d65-1899-4af8-e72d-c5a5ee56efc1",
        "id": "m41bD0HhMp26"
      },
      "outputs": [
        {
          "output_type": "stream",
          "name": "stdout",
          "text": [
            "['Python Developer - Web Scraping', 'Job opening For Python (SSE) - (Web Scraping) @ GlobalData(Hyd)', 'Web Scraping Expert (Scrapy & Python)', 'Software Developer ( AL ML, Python Data Science )', 'Web Scraping Specialist', 'Python Developer Intern', 'Python Web Scraping & Automation Engineer', 'Python Developer / Web Scraper', 'Senior Node.js Developer (Web Scraping/Web Automation)', 'Full Stack ML Engineer/Python & Flask Web Developer Intern', 'Junior Developer Python/Web Data Scraping', 'Walkin Interviews - Python Web Crawling Analyst', 'Full Stack Web Developer - Python(Flask) with React/NodeJS', 'Python Developer', 'Python Developer Trainee', 'Tech Lead - Web Scraping Engineer', 'Python Developer', 'Python Developer', 'Python Developer Trainee - 05', 'Python FSD React Developer']\n"
          ]
        }
      ],
      "source": [
        "final_role=new_role+new_role2\n",
        "print(final_role)"
      ]
    },
    {
      "cell_type": "code",
      "execution_count": null,
      "metadata": {
        "colab": {
          "base_uri": "https://localhost:8080/"
        },
        "outputId": "ccd4737d-3907-4633-8396-c32233e230ec",
        "id": "-VoCZLXBMp26"
      },
      "outputs": [
        {
          "output_type": "stream",
          "name": "stdout",
          "text": [
            "['https://www.naukri.com/job-listings-python-developer-web-scraping-point-perfect-technology-solution-coimbatore-5-to-10-years-080125503343', 'https://www.naukri.com/job-listings-opening-for-python-sse-web-scraping-globaldata-hyd-globaldata-hyderabad-4-to-8-years-200225013681', 'https://www.naukri.com/job-listings-web-scraping-expert-scrapy-python-leapstrat-interactive-kolkata-5-to-7-years-270125000925']\n",
            "['https://www.naukri.com/job-listings-software-developer-al-ml-python-data-science-eagle-peak-intel-privet-limited-new-delhi-0-to-5-years-150325007472', 'https://www.naukri.com/job-listings-web-scraping-specialist-nityo-infotech-kolkata-mumbai-new-delhi-hyderabad-pune-chennai-bengaluru-3-to-5-years-030425500924', 'https://www.naukri.com/job-listings-python-developer-intern-milestone-internet-marketing-private-limited-ahmedabad-0-to-1-years-310325002773', 'https://www.naukri.com/job-listings-python-web-scraping-automation-engineer-s-and-v-coding-new-delhi-2-to-6-years-220624005153', 'https://www.naukri.com/job-listings-python-developer-web-scraper-hir-infotech-pvt-ltd-ahmedabad-1-to-2-years-100823500132', 'https://www.naukri.com/job-listings-senior-node-js-developer-web-scraping-web-automation-uplers-noida-4-to-7-years-090425006303', 'https://www.naukri.com/job-listings-full-stack-ml-engineer-python-flask-web-developer-intern-dendrite-ai-pune-0-to-1-years-190325512297', 'https://www.naukri.com/job-listings-junior-developer-python-web-data-scraping-techquaint-services-indore-3-to-4-years-010524009132', 'https://www.naukri.com/job-listings-walkin-interviews-python-web-crawling-analyst-spire-technologies-and-solutions-bangalore-bengaluru-0-to-1-years-010425011344', 'https://www.naukri.com/job-listings-full-stack-web-developer-python-flask-with-react-nodejs-dendrite-ai-pune-0-to-4-years-190325512257', 'https://www.naukri.com/job-listings-python-developer-tradetron-pune-chennai-bengaluru-0-to-5-years-260325928030', 'https://www.naukri.com/job-listings-python-developer-trainee-smart-placement-services-pune-bengaluru-0-to-0-years-020425008463', 'https://www.naukri.com/job-listings-tech-lead-web-scraping-engineer-gm-ware-bengaluru-5-to-8-years-090425905580', 'https://www.naukri.com/job-listings-python-developer-tradetron-pune-chennai-bengaluru-0-to-5-years-210325909817', 'https://www.naukri.com/job-listings-python-developer-appzlogic-mobility-solutions-pvt-ltd-kolkata-mumbai-new-delhi-hyderabad-pune-chennai-bengaluru-0-to-3-years-121124502854', 'https://www.naukri.com/job-listings-python-developer-trainee-05-innovatexiq-solutions-kolkata-mumbai-new-delhi-hyderabad-pune-chennai-bengaluru-0-to-1-years-120225500480', 'https://www.naukri.com/job-listings-python-fsd-react-developer-hexaware-technologies-pune-chennai-bengaluru-5-to-10-years-020425007715']\n",
            "['https://www.naukri.com/job-listings-python-developer-web-scraping-point-perfect-technology-solution-coimbatore-5-to-10-years-080125503343', 'https://www.naukri.com/job-listings-opening-for-python-sse-web-scraping-globaldata-hyd-globaldata-hyderabad-4-to-8-years-200225013681', 'https://www.naukri.com/job-listings-web-scraping-expert-scrapy-python-leapstrat-interactive-kolkata-5-to-7-years-270125000925', 'https://www.naukri.com/job-listings-software-developer-al-ml-python-data-science-eagle-peak-intel-privet-limited-new-delhi-0-to-5-years-150325007472', 'https://www.naukri.com/job-listings-web-scraping-specialist-nityo-infotech-kolkata-mumbai-new-delhi-hyderabad-pune-chennai-bengaluru-3-to-5-years-030425500924', 'https://www.naukri.com/job-listings-python-developer-intern-milestone-internet-marketing-private-limited-ahmedabad-0-to-1-years-310325002773', 'https://www.naukri.com/job-listings-python-web-scraping-automation-engineer-s-and-v-coding-new-delhi-2-to-6-years-220624005153', 'https://www.naukri.com/job-listings-python-developer-web-scraper-hir-infotech-pvt-ltd-ahmedabad-1-to-2-years-100823500132', 'https://www.naukri.com/job-listings-senior-node-js-developer-web-scraping-web-automation-uplers-noida-4-to-7-years-090425006303', 'https://www.naukri.com/job-listings-full-stack-ml-engineer-python-flask-web-developer-intern-dendrite-ai-pune-0-to-1-years-190325512297', 'https://www.naukri.com/job-listings-junior-developer-python-web-data-scraping-techquaint-services-indore-3-to-4-years-010524009132', 'https://www.naukri.com/job-listings-walkin-interviews-python-web-crawling-analyst-spire-technologies-and-solutions-bangalore-bengaluru-0-to-1-years-010425011344', 'https://www.naukri.com/job-listings-full-stack-web-developer-python-flask-with-react-nodejs-dendrite-ai-pune-0-to-4-years-190325512257', 'https://www.naukri.com/job-listings-python-developer-tradetron-pune-chennai-bengaluru-0-to-5-years-260325928030', 'https://www.naukri.com/job-listings-python-developer-trainee-smart-placement-services-pune-bengaluru-0-to-0-years-020425008463', 'https://www.naukri.com/job-listings-tech-lead-web-scraping-engineer-gm-ware-bengaluru-5-to-8-years-090425905580', 'https://www.naukri.com/job-listings-python-developer-tradetron-pune-chennai-bengaluru-0-to-5-years-210325909817', 'https://www.naukri.com/job-listings-python-developer-appzlogic-mobility-solutions-pvt-ltd-kolkata-mumbai-new-delhi-hyderabad-pune-chennai-bengaluru-0-to-3-years-121124502854', 'https://www.naukri.com/job-listings-python-developer-trainee-05-innovatexiq-solutions-kolkata-mumbai-new-delhi-hyderabad-pune-chennai-bengaluru-0-to-1-years-120225500480', 'https://www.naukri.com/job-listings-python-fsd-react-developer-hexaware-technologies-pune-chennai-bengaluru-5-to-10-years-020425007715']\n",
            "20\n"
          ]
        }
      ],
      "source": [
        "new_link1=link[0:3]\n",
        "print(new_link1)\n",
        "\n",
        "new_link2=link[8:]\n",
        "print(new_link2)\n",
        "final_link=new_link1+new_link2\n",
        "print(final_link)\n",
        "print(len(final_link))"
      ]
    },
    {
      "cell_type": "code",
      "execution_count": null,
      "metadata": {
        "colab": {
          "base_uri": "https://localhost:8080/"
        },
        "outputId": "5b504048-543e-4d5d-e16b-4f8bf72f01a9",
        "id": "SkqUPH4YMp27"
      },
      "outputs": [
        {
          "output_type": "stream",
          "name": "stdout",
          "text": [
            "20\n"
          ]
        }
      ],
      "source": [
        "print(len(final_role))"
      ]
    },
    {
      "cell_type": "markdown",
      "source": [
        "### Step 3: Parsing HTML Content\n"
      ],
      "metadata": {
        "id": "Q1wiPdMDVrQN"
      }
    },
    {
      "cell_type": "code",
      "execution_count": null,
      "metadata": {
        "id": "XiFF-VG5Mp27"
      },
      "outputs": [],
      "source": [
        "#Final_role and Final_link"
      ]
    },
    {
      "cell_type": "code",
      "execution_count": null,
      "metadata": {
        "id": "kloYb6YGMp28"
      },
      "outputs": [],
      "source": [
        "#Experience"
      ]
    },
    {
      "cell_type": "code",
      "execution_count": null,
      "metadata": {
        "colab": {
          "base_uri": "https://localhost:8080/"
        },
        "outputId": "9f705e4d-4e5d-4e3f-f622-afdb219d5ec0",
        "id": "9oqMlp6VMp28"
      },
      "outputs": [
        {
          "output_type": "stream",
          "name": "stdout",
          "text": [
            "25\n",
            "['5-10 Yrs', '4-8 Yrs', '5-7 Yrs', '3-8 Yrs', '3-8 Yrs', '3-7 Yrs', '8-12 Yrs', '3-6 Yrs', '0-5 Yrs', '3-5 Yrs', '6 months duration', '2-6 Yrs', '1-2 Yrs', '4-7 Yrs', 'No fixed duration', '3-4 Yrs', '0-1 Yrs', '0-4 Yrs', '0-5 Yrs', '0 Yrs', '5-8 Yrs', '0-5 Yrs', '0-3 Yrs', '3 months duration', '5-10 Yrs']\n"
          ]
        }
      ],
      "source": [
        "loc=soup.find_all(\"span\",class_=\"exp-wrap\")\n",
        "exp=[]\n",
        "for i in loc:\n",
        "  exp.append(i.text)\n",
        "print(len(exp))\n",
        "print(exp)"
      ]
    },
    {
      "cell_type": "code",
      "source": [
        "#Remove unecessary data from experience"
      ],
      "metadata": {
        "id": "fjioDd8QMp28"
      },
      "execution_count": null,
      "outputs": []
    },
    {
      "cell_type": "code",
      "execution_count": null,
      "metadata": {
        "colab": {
          "base_uri": "https://localhost:8080/"
        },
        "outputId": "0274621a-efab-4a62-f4c4-0496bc55721d",
        "id": "uQhnjOTFMp29"
      },
      "outputs": [
        {
          "output_type": "stream",
          "name": "stdout",
          "text": [
            "['5-10 Yrs', '4-8 Yrs', '5-7 Yrs']\n"
          ]
        }
      ],
      "source": [
        "new_exp1=exp[0:3]\n",
        "print(new_exp1)"
      ]
    },
    {
      "cell_type": "code",
      "execution_count": null,
      "metadata": {
        "colab": {
          "base_uri": "https://localhost:8080/"
        },
        "outputId": "4350eee3-154b-45a5-9717-6cc5db0cbaa6",
        "id": "r8Yab1mMMp29"
      },
      "outputs": [
        {
          "output_type": "stream",
          "name": "stdout",
          "text": [
            "['0-5 Yrs', '3-5 Yrs', '6 months duration', '2-6 Yrs', '1-2 Yrs', '4-7 Yrs', 'No fixed duration', '3-4 Yrs', '0-1 Yrs', '0-4 Yrs', '0-5 Yrs', '0 Yrs', '5-8 Yrs', '0-5 Yrs', '0-3 Yrs', '3 months duration', '5-10 Yrs']\n"
          ]
        }
      ],
      "source": [
        "new_exp2=exp[8:]\n",
        "print(new_exp2)"
      ]
    },
    {
      "cell_type": "code",
      "source": [
        "#final Experience after remvoe data"
      ],
      "metadata": {
        "id": "yn-wXFg-Mp2-"
      },
      "execution_count": null,
      "outputs": []
    },
    {
      "cell_type": "code",
      "execution_count": null,
      "metadata": {
        "colab": {
          "base_uri": "https://localhost:8080/"
        },
        "outputId": "326ea315-6d91-4025-bcaa-31bf0213506c",
        "id": "hza82unAMp2-"
      },
      "outputs": [
        {
          "output_type": "stream",
          "name": "stdout",
          "text": [
            "['5-10 Yrs', '4-8 Yrs', '5-7 Yrs', '0-5 Yrs', '3-5 Yrs', '6 months duration', '2-6 Yrs', '1-2 Yrs', '4-7 Yrs', 'No fixed duration', '3-4 Yrs', '0-1 Yrs', '0-4 Yrs', '0-5 Yrs', '0 Yrs', '5-8 Yrs', '0-5 Yrs', '0-3 Yrs', '3 months duration', '5-10 Yrs']\n",
            "20\n"
          ]
        }
      ],
      "source": [
        "final_exp=new_exp1+new_exp2\n",
        "print(final_exp)\n",
        "print(len(final_exp))"
      ]
    },
    {
      "cell_type": "code",
      "execution_count": null,
      "metadata": {
        "id": "smzzkGjdMp2_"
      },
      "outputs": [],
      "source": [
        "#income data"
      ]
    },
    {
      "cell_type": "code",
      "execution_count": null,
      "metadata": {
        "colab": {
          "base_uri": "https://localhost:8080/"
        },
        "outputId": "7acb70bb-6fe5-47aa-ffd6-cdb068a203c0",
        "id": "6rl2ylBcMp3A"
      },
      "outputs": [
        {
          "output_type": "stream",
          "name": "stdout",
          "text": [
            "20\n",
            "['Not disclosed', 'Not disclosed', '6-9 Lacs PA', '4-9 Lacs PA', 'Not disclosed', '12,000/month', 'Not disclosed', 'Not disclosed', '6-8 Lacs PA', 'Unpaid', 'Not disclosed', 'Not disclosed', 'Not disclosed', 'Not disclosed', '4-4.5 Lacs PA', 'Not disclosed', 'Not disclosed', 'Not disclosed', 'Unpaid', 'Not disclosed']\n"
          ]
        }
      ],
      "source": [
        "loc=soup.find_all(\"span\",class_=\"ni-job-tuple-icon ni-job-tuple-icon-srp-rupee sal\")\n",
        "income=[]\n",
        "\n",
        "for i in loc:\n",
        "  income.append(i.text)\n",
        "print(len(income))\n",
        "print(income)\n"
      ]
    },
    {
      "cell_type": "code",
      "execution_count": null,
      "metadata": {
        "id": "oFAeKGflMp3A"
      },
      "outputs": [],
      "source": [
        "#Location data"
      ]
    },
    {
      "cell_type": "code",
      "execution_count": null,
      "metadata": {
        "colab": {
          "base_uri": "https://localhost:8080/"
        },
        "outputId": "ba3251f9-3048-4884-fce6-1b657145d69f",
        "id": "NVONtrATMp3A"
      },
      "outputs": [
        {
          "output_type": "stream",
          "name": "stdout",
          "text": [
            "20\n",
            "['Coimbatore', 'Hybrid - Hyderabad(Kondapur)', 'Kolkata(New Town)', 'New Delhi(Bhikaji Cama Place)', 'Kolkata, Mumbai, New Delhi, Hyderabad, Pune, Chennai, Bengaluru', 'Ahmedabad', 'New Delhi(Janakpuri)', 'Ahmedabad', 'Noida', 'Pune', 'Hybrid - Indore(Vijay Nagar )', 'Bangalore/Bengaluru', 'Pune', 'Pune, Chennai, Bengaluru', 'Hybrid - Pune, Bengaluru', 'Bengaluru', 'Pune, Chennai, Bengaluru', 'Kolkata, Mumbai, New Delhi, Hyderabad, Pune, Chennai, Bengaluru', 'Kolkata, Mumbai, New Delhi, Hyderabad, Pune, Chennai, Bengaluru', 'Hybrid - Pune, Chennai, Bengaluru']\n"
          ]
        }
      ],
      "source": [
        "loc=soup.find_all(\"span\",class_=\"ni-job-tuple-icon ni-job-tuple-icon-srp-location loc\")\n",
        "location=[]\n",
        "\n",
        "for i in loc:\n",
        " location.append(i.text)\n",
        "print(len(location))\n",
        "print(location)"
      ]
    },
    {
      "cell_type": "code",
      "execution_count": null,
      "metadata": {
        "id": "LeNXNYOPMp3A"
      },
      "outputs": [],
      "source": [
        "#Decription dta"
      ]
    },
    {
      "cell_type": "code",
      "execution_count": null,
      "metadata": {
        "colab": {
          "base_uri": "https://localhost:8080/"
        },
        "outputId": "22aec203-33d1-4c0f-8419-bed865d87ecd",
        "id": "dyGaJjXVMp3A"
      },
      "outputs": [
        {
          "output_type": "stream",
          "name": "stdout",
          "text": [
            "17\n",
            "['Hands on experience in Python, with knowledge of Scrapy framework . .', 'The ideal candidate will have strong Python development skills, experience in data extr...', 'The ideal candidate will have 5+ years of hands-on experience developing Scrapy-based s...', 'must possess advanced web scraping expertise. . Role & responsibilities Mandatory exper...', 'Qualifications Bachelor s degree in Computer Science, Software Engineering, Data Scienc...', 'Proficiency in Python and experience with web scraping libraries (Scrapy, BeautifulSoup...', 'Develop and maintain web scraping scripts using Python and Selenium to extract data fro...', ' Senior Node.js Developer (Web Scraping/Web Automation) Experience: 4- 5 Years Exp.Sala...', 'Flexible with working in shifts . We are seeking a highly skilled Junior Developer havi...', 'Qualification: BE / MBA. Passout Year: 2023, 2024 onlyMust have strong expertise in Pyt...', 'Parents from all walks of life must choose between their careers and providing child ca...', 'Design and develop software solutions using Python programming language and related fra...', 'We are looking for Python Developer Location : Bangalore and Pune Package : 4 Lpa Year ...', 'Job Type: Full-time Work from home availableSkills Required: Expert in Python and scrap...', 'Design and develop software solutions using Python programming language and related fra...', 'Appzlogic Mobility Solutions Pvt Ltd is looking for Python Developer to join our dynami...', '5+ years application development experience in React, Python and SQL. - 7+ years applic...']\n"
          ]
        }
      ],
      "source": [
        "loc=soup.find_all(\"span\",class_=\"job-desc ni-job-tuple-icon ni-job-tuple-icon-srp-description\")\n",
        "des=[]\n",
        "\n",
        "for i in loc:\n",
        " des.append(i.text)\n",
        "print(len(des))\n",
        "print(des)"
      ]
    },
    {
      "cell_type": "code",
      "source": [
        "# Insert the new string at index 6\n",
        "des.insert(5, \" No descripto\")\n",
        "des.insert(9, \" No descripto\")\n",
        "des.insert(18, \" No descripto\")\n",
        "# Print the updated list\n",
        "print(des)\n",
        "print(len(des))"
      ],
      "metadata": {
        "colab": {
          "base_uri": "https://localhost:8080/"
        },
        "outputId": "83d2a53d-16e5-4ba2-e632-0cf841bf5c7c",
        "id": "a3TLYcRjMp3B"
      },
      "execution_count": null,
      "outputs": [
        {
          "output_type": "stream",
          "name": "stdout",
          "text": [
            "['Hands on experience in Python, with knowledge of Scrapy framework . .', 'The ideal candidate will have strong Python development skills, experience in data extr...', 'The ideal candidate will have 5+ years of hands-on experience developing Scrapy-based s...', 'must possess advanced web scraping expertise. . Role & responsibilities Mandatory exper...', 'Qualifications Bachelor s degree in Computer Science, Software Engineering, Data Scienc...', ' No descripto', 'Proficiency in Python and experience with web scraping libraries (Scrapy, BeautifulSoup...', 'Develop and maintain web scraping scripts using Python and Selenium to extract data fro...', ' Senior Node.js Developer (Web Scraping/Web Automation) Experience: 4- 5 Years Exp.Sala...', ' No descripto', 'Flexible with working in shifts . We are seeking a highly skilled Junior Developer havi...', 'Qualification: BE / MBA. Passout Year: 2023, 2024 onlyMust have strong expertise in Pyt...', 'Parents from all walks of life must choose between their careers and providing child ca...', 'Design and develop software solutions using Python programming language and related fra...', 'We are looking for Python Developer Location : Bangalore and Pune Package : 4 Lpa Year ...', 'Job Type: Full-time Work from home availableSkills Required: Expert in Python and scrap...', 'Design and develop software solutions using Python programming language and related fra...', 'Appzlogic Mobility Solutions Pvt Ltd is looking for Python Developer to join our dynami...', ' No descripto', '5+ years application development experience in React, Python and SQL. - 7+ years applic...']\n",
            "20\n"
          ]
        }
      ]
    },
    {
      "cell_type": "code",
      "execution_count": null,
      "metadata": {
        "colab": {
          "base_uri": "https://localhost:8080/"
        },
        "outputId": "81ea431a-0828-4500-de97-2646661b5b53",
        "id": "1pCymsRIMp3B"
      },
      "outputs": [
        {
          "output_type": "stream",
          "name": "stdout",
          "text": [
            "17\n",
            "['Application designCSSWeb technologiesESPJavascriptHTMLdata privacyPython', 'web scrapingBeautiful SoupData ExtractionSeleniumPythonPlaywrightWeb CrawlingHTML', 'ScrapyData ScrapingData ExtractionWeb ScrapingPythonParsingData CleansingRegular Expressions', 'Data ScienceOracle DatabasePython DevelopmentMachine LearningWeb ScrapingAlgorithm DevelopmentSQL DatabasePython', 'web scrapingkubernetescontinuous integrationcssci/cdartificial intelligencedockersql', 'Web CrawlingAPIPython DevelopmentWeb ScrapingBot DevelopmentDevelopmentPythonAutomation', 'Performance tuningAutomationCodingXMLMySQLData structuresHTMLmicrosoft', 'MySQLNode.JsWeb ScrapingVue.jsGITTypescriptCI/CDMongoDB', 'scrapingAPIReverse EngineeringWeb ScrapingPythondata extractionCeleryRest Api Development', 'Web CrawlingWeb ScrapingPythonBeautiful SoupScrapypython scriptingPlaywrightData Extraction', 'UnixComputer scienceSoftware designWeb developmentDebuggingTroubleshootingAnalyticsFinancial services', 'JenkinsCSSBootstrapHTMLPythonJavaScriptJSONAngular', 'DjangoPython DevelopmentPythonJavaDotnet DevelopmentPython FrameworkFullstack DevelopmentDjango Framework', 'PythonNoSQLWeb CrawlingMongoDBAWSWeb ScrapingData extractionSQL', 'PythonJenkinsProject-based trainingCSSBoostrapHTMLbootstrapJason', 'pythoncsscsoftware testingnatural language processingpython developmentmachine learningartificial intelligence', 'PythonPython FlaskReact.Js']\n"
          ]
        }
      ],
      "source": [
        "loc=soup.find_all(\"ul\",class_=\"tags-gt\")\n",
        "key=[]\n",
        "\n",
        "for i in loc:\n",
        " key.append(i.text)\n",
        "print(len(key))\n",
        "print(key)"
      ]
    },
    {
      "cell_type": "code",
      "source": [
        "# Insert the new string at index 6\n",
        "key.insert(5, \"No keyword\")\n",
        "key.insert(9, \"No keyword\")\n",
        "key.insert(18, \"No keyword\")\n",
        "# Print the updated list\n",
        "print(key)\n",
        "print(len(key))"
      ],
      "metadata": {
        "colab": {
          "base_uri": "https://localhost:8080/"
        },
        "outputId": "07f82cc5-fed0-4b26-dca3-1c0a80c24c08",
        "id": "b9FQHow2Mp3B"
      },
      "execution_count": null,
      "outputs": [
        {
          "output_type": "stream",
          "name": "stdout",
          "text": [
            "['Application designCSSWeb technologiesESPJavascriptHTMLdata privacyPython', 'web scrapingBeautiful SoupData ExtractionSeleniumPythonPlaywrightWeb CrawlingHTML', 'ScrapyData ScrapingData ExtractionWeb ScrapingPythonParsingData CleansingRegular Expressions', 'Data ScienceOracle DatabasePython DevelopmentMachine LearningWeb ScrapingAlgorithm DevelopmentSQL DatabasePython', 'web scrapingkubernetescontinuous integrationcssci/cdartificial intelligencedockersql', 'No keyword', 'Web CrawlingAPIPython DevelopmentWeb ScrapingBot DevelopmentDevelopmentPythonAutomation', 'Performance tuningAutomationCodingXMLMySQLData structuresHTMLmicrosoft', 'MySQLNode.JsWeb ScrapingVue.jsGITTypescriptCI/CDMongoDB', 'No keyword', 'scrapingAPIReverse EngineeringWeb ScrapingPythondata extractionCeleryRest Api Development', 'Web CrawlingWeb ScrapingPythonBeautiful SoupScrapypython scriptingPlaywrightData Extraction', 'UnixComputer scienceSoftware designWeb developmentDebuggingTroubleshootingAnalyticsFinancial services', 'JenkinsCSSBootstrapHTMLPythonJavaScriptJSONAngular', 'DjangoPython DevelopmentPythonJavaDotnet DevelopmentPython FrameworkFullstack DevelopmentDjango Framework', 'PythonNoSQLWeb CrawlingMongoDBAWSWeb ScrapingData extractionSQL', 'PythonJenkinsProject-based trainingCSSBoostrapHTMLbootstrapJason', 'pythoncsscsoftware testingnatural language processingpython developmentmachine learningartificial intelligence', 'No keyword', 'PythonPython FlaskReact.Js']\n",
            "20\n"
          ]
        }
      ]
    },
    {
      "cell_type": "code",
      "execution_count": null,
      "metadata": {
        "colab": {
          "base_uri": "https://localhost:8080/"
        },
        "outputId": "25ee8702-a68e-4102-f9ef-2323253531d0",
        "id": "Mz2U6SH4Mp3B"
      },
      "outputs": [
        {
          "output_type": "stream",
          "name": "stdout",
          "text": [
            "['Application design CSSWeb technologies ESPJavascript HTMLdata privacy Python', 'web scraping Beautiful Soup Data Extraction Selenium Python Playwright Web Crawling HTML', 'Scrapy Data Scraping Data Extraction Web Scraping Python Parsing Data Cleansing Regular Expressions', 'Data Science Oracle Database Python Development Machine Learning Web Scraping Algorithm Development SQL Database Python', 'web scrapingkubernetescontinuous integrationcssci/cdartificial intelligencedockersql', 'No keyword', 'Web Crawling APIPython Development Web Scraping Bot Development Development Python Automation', 'Performance tuning Automation Coding XMLMy SQLData structures HTMLmicrosoft', 'My SQLNode.Js Web Scraping Vue.js GITTypescript CI/CDMongo DB', 'No keyword', 'scraping APIReverse Engineering Web Scraping Pythondata extraction Celery Rest Api Development', 'Web Crawling Web Scraping Python Beautiful Soup Scrapypython scripting Playwright Data Extraction', 'Unix Computer science Software design Web development Debugging Troubleshooting Analytics Financial services', 'Jenkins CSSBootstrap HTMLPython Java Script JSONAngular', 'Django Python Development Python Java Dotnet Development Python Framework Fullstack Development Django Framework', 'Python No SQLWeb Crawling Mongo DBAWSWeb Scraping Data extraction SQL', 'Python Jenkins Project-based training CSSBoostrap HTMLbootstrap Jason', 'pythoncsscsoftware testingnatural language processingpython developmentmachine learningartificial intelligence', 'No keyword', 'Python Python Flask React.Js']\n"
          ]
        }
      ],
      "source": [
        "#Add space in words\n",
        "import re\n",
        "new_key = []\n",
        "for i in key:\n",
        "    # Add spaces before capital letters (camelCase detection)\n",
        "    modified_string = re.sub(r'(?<=[a-z])(?=[A-Z])', ' ', i)\n",
        "    new_key.append(modified_string)\n",
        "print(new_key)"
      ]
    },
    {
      "cell_type": "code",
      "execution_count": null,
      "metadata": {
        "colab": {
          "base_uri": "https://localhost:8080/"
        },
        "outputId": "4eb9b8eb-5904-42de-aadc-54917bb5a18b",
        "id": "Y9N7EOfHMp3C"
      },
      "outputs": [
        {
          "output_type": "stream",
          "name": "stdout",
          "text": [
            "20\n"
          ]
        }
      ],
      "source": [
        "print(len(new_key))"
      ]
    },
    {
      "cell_type": "markdown",
      "source": [
        "### Step 4: Extracting Data\n"
      ],
      "metadata": {
        "id": "Hbf6x8XfVyD3"
      }
    },
    {
      "cell_type": "code",
      "source": [
        "#Add all data into dataframe"
      ],
      "metadata": {
        "id": "70T3H1k2Mp3C"
      },
      "execution_count": null,
      "outputs": []
    },
    {
      "cell_type": "code",
      "source": [
        "des, new_key, final_exp, income, location, company_name,company_link, final_role, final_link\n",
        "import pandas as pd\n",
        "\n",
        "df = pd.DataFrame({\n",
        "    'Comppany_name': company_name,\n",
        "    'Company_link': company_link,\n",
        "    'Final_role': final_role,\n",
        "    'Final_link': final_link,\n",
        "    'Final_exp': final_exp,\n",
        "    'Income': income,\n",
        "    'Location': location,\n",
        "    'Descriptiom': des,\n",
        "    'Keywords': new_key\n",
        "})\n",
        "\n",
        "print(df.head())"
      ],
      "metadata": {
        "colab": {
          "base_uri": "https://localhost:8080/"
        },
        "outputId": "8a74eda1-763c-4a93-e7f7-e3f3b2a26b7b",
        "id": "oGgsNjeNMp3C"
      },
      "execution_count": null,
      "outputs": [
        {
          "output_type": "stream",
          "name": "stdout",
          "text": [
            "                          Comppany_name  \\\n",
            "0  Point Perfect Transcription Services   \n",
            "1                            Globaldata   \n",
            "2                 Leapstrat Interactive   \n",
            "3       Eagle Peak Intel Privet Limited   \n",
            "4                        Nityo Infotech   \n",
            "\n",
            "                                        Company_link  \\\n",
            "0  https://www.naukri.com/point-perfect-transcrip...   \n",
            "1  https://www.naukri.com/globaldata-jobs-careers...   \n",
            "2  https://www.naukri.com/leapstrat-interactive-j...   \n",
            "3  https://www.naukri.com/eagle-peak-intel-jobs-c...   \n",
            "4  https://www.naukri.com/nityo-infotech-jobs-car...   \n",
            "\n",
            "                                          Final_role  \\\n",
            "0                    Python Developer - Web Scraping   \n",
            "1  Job opening For Python (SSE) - (Web Scraping) ...   \n",
            "2              Web Scraping Expert (Scrapy & Python)   \n",
            "3  Software Developer ( AL ML, Python Data Science )   \n",
            "4                            Web Scraping Specialist   \n",
            "\n",
            "                                          Final_link Final_exp         Income  \\\n",
            "0  https://www.naukri.com/job-listings-python-dev...  5-10 Yrs  Not disclosed   \n",
            "1  https://www.naukri.com/job-listings-opening-fo...   4-8 Yrs  Not disclosed   \n",
            "2  https://www.naukri.com/job-listings-web-scrapi...   5-7 Yrs    6-9 Lacs PA   \n",
            "3  https://www.naukri.com/job-listings-software-d...   0-5 Yrs    4-9 Lacs PA   \n",
            "4  https://www.naukri.com/job-listings-web-scrapi...   3-5 Yrs  Not disclosed   \n",
            "\n",
            "                                            Location  \\\n",
            "0                                         Coimbatore   \n",
            "1                       Hybrid - Hyderabad(Kondapur)   \n",
            "2                                  Kolkata(New Town)   \n",
            "3                      New Delhi(Bhikaji Cama Place)   \n",
            "4  Kolkata, Mumbai, New Delhi, Hyderabad, Pune, C...   \n",
            "\n",
            "                                         Descriptiom  \\\n",
            "0  Hands on experience in Python, with knowledge ...   \n",
            "1  The ideal candidate will have strong Python de...   \n",
            "2  The ideal candidate will have 5+ years of hand...   \n",
            "3  must possess advanced web scraping expertise. ...   \n",
            "4  Qualifications Bachelor s degree in Computer S...   \n",
            "\n",
            "                                            Keywords  \n",
            "0  Application design CSSWeb technologies ESPJava...  \n",
            "1  web scraping Beautiful Soup Data Extraction Se...  \n",
            "2  Scrapy Data Scraping Data Extraction Web Scrap...  \n",
            "3  Data Science Oracle Database Python Developmen...  \n",
            "4  web scrapingkubernetescontinuous integrationcs...  \n"
          ]
        }
      ]
    },
    {
      "cell_type": "markdown",
      "source": [
        "### Step 5: Creating DataFrame and Saving as CSV"
      ],
      "metadata": {
        "id": "Q2xbcH2fV5EG"
      }
    },
    {
      "cell_type": "code",
      "execution_count": null,
      "metadata": {
        "id": "mzo8Jqj_Mp3D"
      },
      "outputs": [],
      "source": [
        "#Convert df into Csv\n",
        "csv_file = df.to_csv('naurkri_data.csv', index=False)"
      ]
    },
    {
      "cell_type": "markdown",
      "source": [
        "##**Output**\n",
        "The scraped data is stored in a CSV file and displayed for analysis."
      ],
      "metadata": {
        "id": "YBjBr2mpWCN5"
      }
    },
    {
      "cell_type": "markdown",
      "source": [
        "\n",
        "\n",
        "---\n",
        "\n",
        "\n",
        "# Naukri Job Scraper\n",
        "---\n",
        "## Objective\n",
        "To extract job listings from Naukri.com using web scraping, clean and structure the data, and analyze trends such as top companies, required skills, and job locations.\n",
        "\n",
        "## Challenges\n",
        "- Handling JavaScript-rendered content\n",
        "- Inconsistent job listing formats\n",
        "- Missing data fields\n",
        "- Website blocking or throttling\n",
        "\n",
        "## Outcome\n",
        "- Clean dataset of job listings with key attributes\n",
        "- Data visualizations for insights into hiring patterns\n",
        "- Useful for job seekers, recruiters, and analysts\n",
        "\n",
        "## Tech Used\n",
        "- Python, BeautifulSoup, Requests\n",
        "- Pandas, Matplotlib, Seaborn\n",
        "- Google Colab\n",
        "\n",
        "\n",
        "---\n",
        "\n"
      ],
      "metadata": {
        "id": "qx8NuLp8YsUq"
      }
    }
  ]
}